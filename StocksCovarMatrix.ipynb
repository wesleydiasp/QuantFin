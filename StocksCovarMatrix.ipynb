{
 "cells": [
  {
   "cell_type": "markdown",
   "metadata": {},
   "source": [
    "# Quick Stocks Covar Matrix Algorithm"
   ]
  },
  {
   "cell_type": "markdown",
   "metadata": {},
   "source": [
    "### This code aims to yield a quick way to analyze the covariance between chose stocks on SA market."
   ]
  },
  {
   "cell_type": "markdown",
   "metadata": {},
   "source": [
    "#### Firts of all, let start importing all the tools and sources (APIs) we're going to use:"
   ]
  },
  {
   "cell_type": "code",
   "execution_count": 1,
   "metadata": {},
   "outputs": [],
   "source": [
    "import pandas as pd\n",
    "import pandas_datareader.data as web\n",
    "import yfinance as yf\n",
    "from functools import reduce\n",
    "yf.pdr_override()"
   ]
  },
  {
   "cell_type": "markdown",
   "metadata": {},
   "source": [
    "#### Then we can define a function who'll ask for the amount and the stocks we want to analyze:"
   ]
  },
  {
   "cell_type": "code",
   "execution_count": 2,
   "metadata": {},
   "outputs": [],
   "source": [
    "def askshares(): #here the user can fill with his infos\n",
    "    n = input('Insira a quantidade de ativos: ')\n",
    "    stocks = list()\n",
    "    names=list()\n",
    "    for i in range(int(n)):\n",
    "        names.append(input('Insira um ticker'))\n",
    "        stocks.append(web.get_data_yahoo(names[i]+'.SA'))\n",
    "    return stocks, names #stocks is a list of df returned by each ticker informed"
   ]
  },
  {
   "cell_type": "markdown",
   "metadata": {},
   "source": [
    "#### As you can see below, the dataframe returned have, basically, infos about the share price. "
   ]
  },
  {
   "cell_type": "code",
   "execution_count": 6,
   "metadata": {},
   "outputs": [
    {
     "data": {
      "text/html": [
       "<div>\n",
       "<style scoped>\n",
       "    .dataframe tbody tr th:only-of-type {\n",
       "        vertical-align: middle;\n",
       "    }\n",
       "\n",
       "    .dataframe tbody tr th {\n",
       "        vertical-align: top;\n",
       "    }\n",
       "\n",
       "    .dataframe thead th {\n",
       "        text-align: right;\n",
       "    }\n",
       "</style>\n",
       "<table border=\"1\" class=\"dataframe\">\n",
       "  <thead>\n",
       "    <tr style=\"text-align: right;\">\n",
       "      <th></th>\n",
       "      <th>Open</th>\n",
       "      <th>High</th>\n",
       "      <th>Low</th>\n",
       "      <th>Close</th>\n",
       "      <th>Adj Close</th>\n",
       "      <th>Volume</th>\n",
       "    </tr>\n",
       "    <tr>\n",
       "      <th>Date</th>\n",
       "      <th></th>\n",
       "      <th></th>\n",
       "      <th></th>\n",
       "      <th></th>\n",
       "      <th></th>\n",
       "      <th></th>\n",
       "    </tr>\n",
       "  </thead>\n",
       "  <tbody>\n",
       "    <tr>\n",
       "      <th>2013-02-08</th>\n",
       "      <td>10.003300</td>\n",
       "      <td>10.666700</td>\n",
       "      <td>10.003300</td>\n",
       "      <td>10.666700</td>\n",
       "      <td>9.220757</td>\n",
       "      <td>24803700</td>\n",
       "    </tr>\n",
       "    <tr>\n",
       "      <th>2013-02-13</th>\n",
       "      <td>10.716700</td>\n",
       "      <td>10.723300</td>\n",
       "      <td>10.436700</td>\n",
       "      <td>10.586700</td>\n",
       "      <td>9.151598</td>\n",
       "      <td>1948500</td>\n",
       "    </tr>\n",
       "    <tr>\n",
       "      <th>2013-02-14</th>\n",
       "      <td>10.466700</td>\n",
       "      <td>10.633300</td>\n",
       "      <td>10.333300</td>\n",
       "      <td>10.350000</td>\n",
       "      <td>8.946986</td>\n",
       "      <td>1350900</td>\n",
       "    </tr>\n",
       "    <tr>\n",
       "      <th>2013-02-15</th>\n",
       "      <td>10.336700</td>\n",
       "      <td>10.350000</td>\n",
       "      <td>10.286700</td>\n",
       "      <td>10.330000</td>\n",
       "      <td>8.929696</td>\n",
       "      <td>2288400</td>\n",
       "    </tr>\n",
       "    <tr>\n",
       "      <th>2013-02-18</th>\n",
       "      <td>10.026700</td>\n",
       "      <td>10.316700</td>\n",
       "      <td>10.000000</td>\n",
       "      <td>10.233300</td>\n",
       "      <td>8.846106</td>\n",
       "      <td>236400</td>\n",
       "    </tr>\n",
       "    <tr>\n",
       "      <th>...</th>\n",
       "      <td>...</td>\n",
       "      <td>...</td>\n",
       "      <td>...</td>\n",
       "      <td>...</td>\n",
       "      <td>...</td>\n",
       "      <td>...</td>\n",
       "    </tr>\n",
       "    <tr>\n",
       "      <th>2020-12-28</th>\n",
       "      <td>37.599998</td>\n",
       "      <td>37.700001</td>\n",
       "      <td>37.240002</td>\n",
       "      <td>37.500000</td>\n",
       "      <td>37.500000</td>\n",
       "      <td>272700</td>\n",
       "    </tr>\n",
       "    <tr>\n",
       "      <th>2020-12-29</th>\n",
       "      <td>37.509998</td>\n",
       "      <td>37.549999</td>\n",
       "      <td>37.119999</td>\n",
       "      <td>37.310001</td>\n",
       "      <td>37.310001</td>\n",
       "      <td>869200</td>\n",
       "    </tr>\n",
       "    <tr>\n",
       "      <th>2020-12-30</th>\n",
       "      <td>37.369999</td>\n",
       "      <td>37.500000</td>\n",
       "      <td>37.110001</td>\n",
       "      <td>37.459999</td>\n",
       "      <td>37.459999</td>\n",
       "      <td>491100</td>\n",
       "    </tr>\n",
       "    <tr>\n",
       "      <th>2021-01-04</th>\n",
       "      <td>37.470001</td>\n",
       "      <td>37.540001</td>\n",
       "      <td>37.139999</td>\n",
       "      <td>37.410000</td>\n",
       "      <td>37.410000</td>\n",
       "      <td>245000</td>\n",
       "    </tr>\n",
       "    <tr>\n",
       "      <th>2021-01-05</th>\n",
       "      <td>37.419998</td>\n",
       "      <td>37.430000</td>\n",
       "      <td>37.169998</td>\n",
       "      <td>37.360001</td>\n",
       "      <td>37.360001</td>\n",
       "      <td>719100</td>\n",
       "    </tr>\n",
       "  </tbody>\n",
       "</table>\n",
       "<p>1960 rows × 6 columns</p>\n",
       "</div>"
      ],
      "text/plain": [
       "                 Open       High        Low      Close  Adj Close    Volume\n",
       "Date                                                                       \n",
       "2013-02-08  10.003300  10.666700  10.003300  10.666700   9.220757  24803700\n",
       "2013-02-13  10.716700  10.723300  10.436700  10.586700   9.151598   1948500\n",
       "2013-02-14  10.466700  10.633300  10.333300  10.350000   8.946986   1350900\n",
       "2013-02-15  10.336700  10.350000  10.286700  10.330000   8.929696   2288400\n",
       "2013-02-18  10.026700  10.316700  10.000000  10.233300   8.846106    236400\n",
       "...               ...        ...        ...        ...        ...       ...\n",
       "2020-12-28  37.599998  37.700001  37.240002  37.500000  37.500000    272700\n",
       "2020-12-29  37.509998  37.549999  37.119999  37.310001  37.310001    869200\n",
       "2020-12-30  37.369999  37.500000  37.110001  37.459999  37.459999    491100\n",
       "2021-01-04  37.470001  37.540001  37.139999  37.410000  37.410000    245000\n",
       "2021-01-05  37.419998  37.430000  37.169998  37.360001  37.360001    719100\n",
       "\n",
       "[1960 rows x 6 columns]"
      ]
     },
     "execution_count": 6,
     "metadata": {},
     "output_type": "execute_result"
    }
   ],
   "source": [
    "stocks[0]"
   ]
  },
  {
   "cell_type": "markdown",
   "metadata": {},
   "source": [
    "#### Therefore, we'll need to create a new function to tranform that data into daily returns data:"
   ]
  },
  {
   "cell_type": "code",
   "execution_count": 8,
   "metadata": {},
   "outputs": [],
   "source": [
    "def rent(x, name = 'NaN', index='Date'): #make the dfs from yf a return dataframe\n",
    "    lis = list()\n",
    "    lis[:]\n",
    "    date = list()\n",
    "    date[:]\n",
    "    for i in range(x.shape[0]-1):\n",
    "        lis.append((x['Close'][i+1]-x['Close'][i])/(x['Close'][i]))\n",
    "        date.append(x.index[i+1])\n",
    "    ret = pd.DataFrame(data = lis, index=date, columns = [name])\n",
    "    ret.index.name = index\n",
    "    return ret"
   ]
  },
  {
   "cell_type": "markdown",
   "metadata": {},
   "source": [
    "#### Once we've created the returns dataframe,we can get into covar fuction:"
   ]
  },
  {
   "cell_type": "code",
   "execution_count": 10,
   "metadata": {},
   "outputs": [
    {
     "name": "stdin",
     "output_type": "stream",
     "text": [
      "Insira a quantidade de ativos:  4\n",
      "Insira um ticker LINX3\n"
     ]
    },
    {
     "name": "stdout",
     "output_type": "stream",
     "text": [
      "[*********************100%***********************]  1 of 1 completed\n"
     ]
    },
    {
     "name": "stdin",
     "output_type": "stream",
     "text": [
      "Insira um ticker ITUB4\n"
     ]
    },
    {
     "name": "stdout",
     "output_type": "stream",
     "text": [
      "[*********************100%***********************]  1 of 1 completed\n"
     ]
    },
    {
     "name": "stdin",
     "output_type": "stream",
     "text": [
      "Insira um ticker ARZZ3\n"
     ]
    },
    {
     "name": "stdout",
     "output_type": "stream",
     "text": [
      "[*********************100%***********************]  1 of 1 completed\n"
     ]
    },
    {
     "name": "stdin",
     "output_type": "stream",
     "text": [
      "Insira um ticker MDIA3\n"
     ]
    },
    {
     "name": "stdout",
     "output_type": "stream",
     "text": [
      "[*********************100%***********************]  1 of 1 completed\n"
     ]
    },
    {
     "data": {
      "text/html": [
       "<div>\n",
       "<style scoped>\n",
       "    .dataframe tbody tr th:only-of-type {\n",
       "        vertical-align: middle;\n",
       "    }\n",
       "\n",
       "    .dataframe tbody tr th {\n",
       "        vertical-align: top;\n",
       "    }\n",
       "\n",
       "    .dataframe thead th {\n",
       "        text-align: right;\n",
       "    }\n",
       "</style>\n",
       "<table border=\"1\" class=\"dataframe\">\n",
       "  <thead>\n",
       "    <tr style=\"text-align: right;\">\n",
       "      <th></th>\n",
       "      <th>LINX3</th>\n",
       "      <th>ITUB4</th>\n",
       "      <th>ARZZ3</th>\n",
       "      <th>MDIA3</th>\n",
       "    </tr>\n",
       "  </thead>\n",
       "  <tbody>\n",
       "    <tr>\n",
       "      <th>LINX3</th>\n",
       "      <td>0.000675</td>\n",
       "      <td>0.000143</td>\n",
       "      <td>0.000193</td>\n",
       "      <td>0.000146</td>\n",
       "    </tr>\n",
       "    <tr>\n",
       "      <th>ITUB4</th>\n",
       "      <td>0.000143</td>\n",
       "      <td>0.000437</td>\n",
       "      <td>0.000217</td>\n",
       "      <td>0.000157</td>\n",
       "    </tr>\n",
       "    <tr>\n",
       "      <th>ARZZ3</th>\n",
       "      <td>0.000193</td>\n",
       "      <td>0.000217</td>\n",
       "      <td>0.000648</td>\n",
       "      <td>0.000166</td>\n",
       "    </tr>\n",
       "    <tr>\n",
       "      <th>MDIA3</th>\n",
       "      <td>0.000146</td>\n",
       "      <td>0.000157</td>\n",
       "      <td>0.000166</td>\n",
       "      <td>0.000437</td>\n",
       "    </tr>\n",
       "  </tbody>\n",
       "</table>\n",
       "</div>"
      ],
      "text/plain": [
       "          LINX3     ITUB4     ARZZ3     MDIA3\n",
       "LINX3  0.000675  0.000143  0.000193  0.000146\n",
       "ITUB4  0.000143  0.000437  0.000217  0.000157\n",
       "ARZZ3  0.000193  0.000217  0.000648  0.000166\n",
       "MDIA3  0.000146  0.000157  0.000166  0.000437"
      ]
     },
     "execution_count": 10,
     "metadata": {},
     "output_type": "execute_result"
    }
   ],
   "source": [
    "def covar():\n",
    "    l = askshares()\n",
    "    data = list()\n",
    "    for i in range(len(l[1])):\n",
    "        data.append(rent(l[0][i], name = l[1][i]))\n",
    "    df_merged = reduce(lambda  left,right: pd.merge(left,right,on=['Date']), data) #merge a number x of dfs in just one row\n",
    "    li = df_merged.columns\n",
    "    cov = df_merged.cov().loc[li,li]\n",
    "    return cov\n",
    "\n",
    "covar()"
   ]
  }
 ],
 "metadata": {
  "kernelspec": {
   "display_name": "Python 3",
   "language": "python",
   "name": "python3"
  },
  "language_info": {
   "codemirror_mode": {
    "name": "ipython",
    "version": 3
   },
   "file_extension": ".py",
   "mimetype": "text/x-python",
   "name": "python",
   "nbconvert_exporter": "python",
   "pygments_lexer": "ipython3",
   "version": "3.9.1"
  }
 },
 "nbformat": 4,
 "nbformat_minor": 4
}
